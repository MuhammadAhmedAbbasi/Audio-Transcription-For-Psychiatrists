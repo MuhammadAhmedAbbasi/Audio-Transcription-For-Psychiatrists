{
 "cells": [
  {
   "cell_type": "code",
   "execution_count": 26,
   "metadata": {},
   "outputs": [],
   "source": [
    "import getpass\n",
    "import os\n",
    "\n",
    "from langchain import hub\n",
    "from langchain_chroma import Chroma\n",
    "from langchain_community.document_loaders import WebBaseLoader\n",
    "from langchain_core.output_parsers import StrOutputParser\n",
    "from langchain_core.runnables import RunnablePassthrough\n",
    "from langchain_openai import OpenAIEmbeddings\n",
    "from langchain_text_splitters import RecursiveCharacterTextSplitter\n",
    "from langchain.schema import Document\n",
    "from langchain_core.prompts import ChatPromptTemplate\n",
    "from langchain_community.document_loaders import TextLoader\n",
    "from langchain_openai import ChatOpenAI\n",
    "from langchain.chains.combine_documents import create_stuff_documents_chain\n",
    "\n",
    "from langchain.chains import create_retrieval_chain"
   ]
  },
  {
   "cell_type": "code",
   "execution_count": 3,
   "metadata": {},
   "outputs": [
    {
     "data": {
      "text/plain": [
       "[Document(metadata={'source': 'C:\\\\Users\\\\Administrator\\\\Desktop\\\\Backend-LLM\\\\audio_text_llm\\\\SenseVoiceSmall\\\\outdir\\\\text.txt'}, page_content='应对抑郁症的复杂情感和挑战可能是一个极其艰巨的过程，尤其是在你作为学生需要平衡学术责任、社交压力和个人期望的时候。理解抑郁症不是弱点或无法应对的表现，而是一种需要同情、理解和适当护理的医学状况，这一点至关重要。在你经历这些困难时，认识和验证你的感受是很重要的。学业压力、社交动态和自我施加的期望可能会让人感到难以承受。请记住，你并不是孤单面对这些经历。许多学生也经历类似的困扰，寻求支持是迈向康复的勇敢和重要的一步。\\n\\n抑郁症常常扭曲我们对自己和周围情况的看法，让我们感到孤立无援，仿佛我们的困境无法克服。然而，这些感受虽然非常真实，但并不定义你的价值或改善的潜力。寻求帮助是至关重要的，无论是通过专业咨询、支持小组还是信任的亲友。治疗提供了一个安全的空间，让你可以在没有评判的情况下探索你的思想和感受，提供管理和缓解抑郁症状的工具和策略。例如，认知行为疗法可以帮助你识别和挑战那些加重抑郁症的负面思维模式和行为。此外，药物治疗可能会被建议，以帮助平衡大脑中的化学物质，但这应始终与医疗提供者充分讨论。\\n\\n在治疗中，我们一起探讨抑郁症的根本原因，这可能包括过去的创伤、持续的压力源或其他心理因素。我们可以深入这些领域，以帮助你制定应对策略和建立韧性。同样，关注自我护理实践也很重要，例如保持健康的日常生活、参与带给你快乐的活动、以及练习正念和放松技巧。定期的身体活动、均衡饮食和充足睡眠对支持心理健康至关重要。参与爱好、与支持的朋友和家人共度时光，以及设定小而可实现的目标也可以显著改善你的整体幸福感。\\n\\n请记住，管理抑郁症的进展并非总是线性的。这过程中会有起伏，这很正常。重要的是你继续迈向康复的步伐，并在需要时寻求支持。了解抑郁症和心理健康也是很有益的，它可以赋予你力量，减少无助感。你的旅程是独特的，重要的是以耐心和自我同情来对待它。感觉好转的道路往往是渐进的，但通过正确的支持和策略，你可以取得有意义的进展。\\n\\n你的感受是有效的，寻求帮助是积极而坚强的一步。继续寻求支持，无论是向心理健康专业人士、支持的朋友还是家人。建立一个支持网络和实践自我同情可以显著帮助你迈向心理健康的旅程。请记住，你值得感到更好，并且有资源和人们准备好在你每一步的路上支持你。')]"
      ]
     },
     "execution_count": 3,
     "metadata": {},
     "output_type": "execute_result"
    }
   ],
   "source": [
    "dir = r'C:\\Users\\Administrator\\Desktop\\Backend-LLM\\audio_text_llm\\SenseVoiceSmall\\outdir\\text.txt'\n",
    "loader=TextLoader(dir, encoding= 'utf-8')\n",
    "text=loader.load()\n",
    "text"
   ]
  },
  {
   "cell_type": "code",
   "execution_count": 9,
   "metadata": {},
   "outputs": [],
   "source": [
    "llm = ChatOpenAI(model=\"gpt-3.5-turbo\")"
   ]
  },
  {
   "cell_type": "code",
   "execution_count": 7,
   "metadata": {},
   "outputs": [],
   "source": [
    "text_splitter = RecursiveCharacterTextSplitter(chunk_size=1000, chunk_overlap=200)\n",
    "documents = text_splitter.split_documents(text)"
   ]
  },
  {
   "cell_type": "code",
   "execution_count": 8,
   "metadata": {},
   "outputs": [],
   "source": [
    "# documents = [Document(page_content=chunk) for chunk in splits]\n",
    "vectorstore = Chroma.from_documents(documents=documents, embedding=OpenAIEmbeddings())\n",
    "retriever = vectorstore.as_retriever()\n"
   ]
  },
  {
   "cell_type": "code",
   "execution_count": 17,
   "metadata": {},
   "outputs": [],
   "source": [
    "from langchain_core.prompts.chat import ChatPromptTemplate, SystemMessage, HumanMessage\n",
    "\n",
    "# Define the template with proper message formatting\n",
    "messages = [\n",
    "    SystemMessage(content=\"\"\"\n",
    "        你是一位刚刚结束了与学生咨询的心理医生。以下是咨询的详细信息：\n",
    "        <Context>  \n",
    "        {context}\n",
    "        <Context>\n",
    "        根据这次咨询的信息，请尽可能准确和富有同情心地回答以下问题，反映学生在咨询中的行为和回答。\n",
    "    \"\"\"),\n",
    "    HumanMessage(content=\"{input}\")\n",
    "]\n",
    "\n",
    "# Create the ChatPromptTemplate\n",
    "prompt = ChatPromptTemplate(messages=messages)\n"
   ]
  },
  {
   "cell_type": "code",
   "execution_count": 27,
   "metadata": {},
   "outputs": [],
   "source": [
    "template = \"\"\"\n",
    "你是一位刚刚结束了与学生咨询的心理医生。以下是咨询的详细信息：\n",
    "<Context>  \n",
    "{context}\n",
    "<Context>\n",
    "根据这次咨询的信息，请尽可能准确和富有同情心地回答以下问题，反映学生在咨询中的行为和回答。\n",
    "问题：{input}\n",
    "\"\"\"\n",
    "\n",
    "# Create the PromptTemplate\n",
    "prompt = ChatPromptTemplate.from_template(\n",
    "    template=template\n",
    ")\n",
    "\n",
    "\n",
    "\n",
    "document_chain=create_stuff_documents_chain(llm,prompt)\n",
    "\n",
    "retreival_chain=create_retrieval_chain(retriever,document_chain)"
   ]
  },
  {
   "cell_type": "code",
   "execution_count": 30,
   "metadata": {},
   "outputs": [
    {
     "name": "stderr",
     "output_type": "stream",
     "text": [
      "Number of requested results 4 is greater than number of elements in index 1, updating n_results = 1\n"
     ]
    },
    {
     "data": {
      "text/plain": [
       "'根据本次咨询的信息，来访者表现出对抑郁症的复杂情感和挑战感到困扰，并认识到自己需要帮助和支持。他/她可能在学业压力、社交压力和个人期望下感到难以承受，表现出对自己和周围情况的看法扭曲，以及对困境无法克服的感受。在咨询中，来访者可能表现出愿意探索自己的思想和感受，并愿意寻求专业帮助和支持的积极态度。可能还会讨论过去的创伤、持续的压力源或其他心理因素，并展现出愿意接受心理治疗和改善自我护理实践的意愿。\\n\\n根据咨询师的观察和分析，来访者可能会被建议进行认知行为疗法和/或药物治疗，以帮助管理和缓解抑郁症状。建议来访者定期进行身体活动、保持健康的日常生活、参与带来快乐的活动，并与支持的朋友和家人共度时光。在治疗过程中，来访者可能会面对起伏和挑战，但重要的是继续迈向康复的步伐，并寻求支持。整体上，来访者表现出对自己的情感和康复过程有一定的认识和理解，愿意接受帮助并迈向更好的心理健康状态。'"
      ]
     },
     "execution_count": 30,
     "metadata": {},
     "output_type": "execute_result"
    }
   ],
   "source": [
    "retreival_chain.invoke({\"input\":\"对来访者的客观描述（咨询师的观察、测试结果、医院就诊结果等）\"})['answer']"
   ]
  },
  {
   "cell_type": "code",
   "execution_count": 18,
   "metadata": {},
   "outputs": [],
   "source": [
    "# Define the prompt\n",
    "\n",
    "\n",
    "# Define the format_docs function\n",
    "def format_docs(docs):\n",
    "    return \"\\n\\n\".join(doc.page_content for doc in docs)\n",
    "\n",
    "# Update the RAG chain\n",
    "rag_chain = (\n",
    "    {\"context\": retriever | format_docs, \"question\": RunnablePassthrough()}\n",
    "    | prompt\n",
    "    | llm\n",
    "    | StrOutputParser()\n",
    ")\n"
   ]
  },
  {
   "cell_type": "code",
   "execution_count": 19,
   "metadata": {},
   "outputs": [
    {
     "name": "stderr",
     "output_type": "stream",
     "text": [
      "Number of requested results 4 is greater than number of elements in index 1, updating n_results = 1\n"
     ]
    },
    {
     "data": {
      "text/plain": [
       "'学生可能会感到沮丧和失望，因为他们对自己的未来感到迷茫，不知道自己要做什么或者将来会怎样。在咨询中，学生可能会表达出对未来的焦虑和不安，可能会感到压力很大，无法找到方向。他们可能会提到对现状感到沮丧，无法找到实现自己目标的方法。在咨询中，学生可能会试图寻求帮助和支持，希望找到一种解决困境的方法。\\n\\n针对这种情况，作为心理医生，我会倾听学生的倾诉，帮助他们理清自己的思路和情绪，引导他们找到解决问题的方法。我会鼓励学生积极面对困难，提出一些实际的建议和行动计划，帮助他们重新找回方向和信心。同时，我也会对学生表现出的情绪和困惑表示同情和理解，让他们感受到支持和安慰。'"
      ]
     },
     "execution_count": 19,
     "metadata": {},
     "output_type": "execute_result"
    }
   ],
   "source": [
    "rag_chain.invoke(\"对来访者的客观描述（咨询师的观察、测试结果、医院就诊结果等）\")"
   ]
  }
 ],
 "metadata": {
  "kernelspec": {
   "display_name": "sensevoice_env",
   "language": "python",
   "name": "python3"
  },
  "language_info": {
   "codemirror_mode": {
    "name": "ipython",
    "version": 3
   },
   "file_extension": ".py",
   "mimetype": "text/x-python",
   "name": "python",
   "nbconvert_exporter": "python",
   "pygments_lexer": "ipython3",
   "version": "3.12.2"
  }
 },
 "nbformat": 4,
 "nbformat_minor": 2
}
