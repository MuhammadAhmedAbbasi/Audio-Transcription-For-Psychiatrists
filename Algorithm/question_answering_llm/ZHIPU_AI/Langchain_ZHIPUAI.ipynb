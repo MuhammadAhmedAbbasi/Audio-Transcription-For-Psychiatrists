{
 "cells": [
  {
   "cell_type": "code",
   "execution_count": 1,
   "metadata": {},
   "outputs": [],
   "source": [
    "from langchain_core.prompts import ChatPromptTemplate\n"
   ]
  },
  {
   "cell_type": "code",
   "execution_count": 2,
   "metadata": {},
   "outputs": [],
   "source": [
    "from langchain_community.chat_models import ChatZhipuAI\n",
    "from langchain_core.messages import AIMessage, HumanMessage, SystemMessage\n",
    "import os"
   ]
  },
  {
   "cell_type": "code",
   "execution_count": 3,
   "metadata": {},
   "outputs": [],
   "source": [
    "os.environ[\"ZHIPUAI_API_KEY\"] = '7c5dd5c2b27eb250cf2d62c9903326b9.s4QDrfGTqp641Kw1'"
   ]
  },
  {
   "cell_type": "code",
   "execution_count": 4,
   "metadata": {},
   "outputs": [],
   "source": [
    "context = '''\n",
    "应对抑郁症的复杂情感和挑战可能是一个极其艰巨的过程，尤其是在你作为学生需要平衡学术责任、社交压力和个人期望的时候。理解抑郁症不是弱点或无法应对的表现，而是一种需要同情、理解和适当护理的医学状况，这一点至关重要。在你经历这些困难时，认识和验证你的感受是很重要的。学业压力、社交动态和自我施加的期望可能会让人感到难以承受。请记住，你并不是孤单面对这些经历。许多学生也经历类似的困扰，寻求支持是迈向康复的勇敢和重要的一步。\n",
    "\n",
    "抑郁症常常扭曲我们对自己和周围情况的看法，让我们感到孤立无援，仿佛我们的困境无法克服。然而，这些感受虽然非常真实，但并不定义你的价值或改善的潜力。寻求帮助是至关重要的，无论是通过专业咨询、支持小组还是信任的亲友。治疗提供了一个安全的空间，让你可以在没有评判的情况下探索你的思想和感受，提供管理和缓解抑郁症状的工具和策略。例如，认知行为疗法可以帮助你识别和挑战那些加重抑郁症的负面思维模式和行为。此外，药物治疗可能会被建议，以帮助平衡大脑中的化学物质，但这应始终与医疗提供者充分讨论。\n",
    "\n",
    "在治疗中，我们一起探讨抑郁症的根本原因，这可能包括过去的创伤、持续的压力源或其他心理因素。我们可以深入这些领域，以帮助你制定应对策略和建立韧性。同样，关注自我护理实践也很重要，例如保持健康的日常生活、参与带给你快乐的活动、以及练习正念和放松技巧。定期的身体活动、均衡饮食和充足睡眠对支持心理健康至关重要。参与爱好、与支持的朋友和家人共度时光，以及设定小而可实现的目标也可以显著改善你的整体幸福感。\n",
    "\n",
    "请记住，管理抑郁症的进展并非总是线性的。这过程中会有起伏，这很正常。重要的是你继续迈向康复的步伐，并在需要时寻求支持。了解抑郁症和心理健康也是很有益的，它可以赋予你力量，减少无助感。你的旅程是独特的，重要的是以耐心和自我同情来对待它。感觉好转的道路往往是渐进的，但通过正确的支持和策略，你可以取得有意义的进展。\n",
    "\n",
    "你的感受是有效的，寻求帮助是积极而坚强的一步。继续寻求支持，无论是向心理健康专业人士、支持的朋友还是家人。建立一个支持网络和实践自我同情可以显著帮助你迈向心理健康的旅程。请记住，你值得感到更好，并且有资源和人们准备好在你每一步的路上支持你。\n",
    "'''"
   ]
  },
  {
   "cell_type": "code",
   "execution_count": 5,
   "metadata": {},
   "outputs": [
    {
     "name": "stdout",
     "output_type": "stream",
     "text": [
      "作为我刚刚结束咨询的心理医生，我对来访者的观察是，他是一位正在经历抑郁症挑战的学生。他面临着学术责任、社交压力和个人期望的挑战，这些压力似乎已经对他的心理健康产生了影响。在咨询过程中，我注意到他对自己的感受有很好的认识，但同时也表现出了一定程度的自我批评和无力感。\n",
      "\n",
      "在心理评估中，我发现来访者有负面思维模式，这些可能是导致他抑郁症症状加剧的因素之一。虽然他没有详细说明是否已经在医院就诊或接受过其他心理健康评估，但我建议他考虑进行更全面的医学评估，以探讨药物治疗的可能性。\n",
      "\n",
      "我的初步观察是，来访者有意愿寻求帮助，表现出对治疗的积极态度，这是走向康复的重要一步。他需要的不仅是专业的心理咨询，还包括建立一个支持网络，以及发展自我同情和自我护理的实践。\n",
      "\n",
      "来访者目前还没有提供具体的测试结果或医院就诊信息，但我已经建议他在必要时寻求这些资源，以便我们能够更全面地了解他的状况，并为他提供最合适的治疗和支持。总的来说，尽管他目前面临困难，但他展现出了寻求改变和改善自己生活质量的决心和勇气。\n"
     ]
    }
   ],
   "source": [
    "template = \"\"\"\n",
    "你是一位刚刚结束了与学生咨询的心理医生。以下是关于这次咨询的详细信息：\n",
    "<Context>\n",
    "{context}\n",
    "<Context>\n",
    "根据这次咨询的信息，请用第一人称的口吻来回答以下问题。不要使用标题或分段格式，请直接叙述内容。请尽可能准确、富有同情心，并体现出作为心理医生的观察和思考。\n",
    "问题：{input}\n",
    "\"\"\"\n",
    "\n",
    "chat = ChatZhipuAI(\n",
    "    model=\"glm-4\",\n",
    "    temperature=0.4,\n",
    ")\n",
    "\n",
    "\n",
    "prompt = ChatPromptTemplate.from_template(\n",
    "    template = template\n",
    ")\n",
    "\n",
    "formatted_prompt = prompt.format(context=context, input='对来访者的客观描述（咨询师的观察、测试结果、医院就诊结果等）')\n",
    "# chain = prompt | chat\n",
    "\n",
    "\n",
    "\n",
    "\n",
    "response = chat.invoke(formatted_prompt)\n",
    "print(response.content)  # Displays the AI-generated poem"
   ]
  }
 ],
 "metadata": {
  "kernelspec": {
   "display_name": "sensevoice_env",
   "language": "python",
   "name": "python3"
  },
  "language_info": {
   "codemirror_mode": {
    "name": "ipython",
    "version": 3
   },
   "file_extension": ".py",
   "mimetype": "text/x-python",
   "name": "python",
   "nbconvert_exporter": "python",
   "pygments_lexer": "ipython3",
   "version": "3.12.2"
  }
 },
 "nbformat": 4,
 "nbformat_minor": 2
}
