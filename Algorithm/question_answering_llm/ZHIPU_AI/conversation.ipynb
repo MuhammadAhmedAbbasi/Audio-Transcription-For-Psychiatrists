{
 "cells": [
  {
   "cell_type": "code",
   "execution_count": 1,
   "metadata": {},
   "outputs": [],
   "source": [
    "from langchain_core.prompts import ChatPromptTemplate\n",
    "from langchain_community.chat_models import ChatZhipuAI\n",
    "from langchain_core.messages import AIMessage, HumanMessage, SystemMessage\n",
    "import os\n"
   ]
  },
  {
   "cell_type": "code",
   "execution_count": 2,
   "metadata": {},
   "outputs": [],
   "source": [
    "os.environ[\"ZHIPUAI_API_KEY\"] ="
   ]
  },
  {
   "cell_type": "code",
   "execution_count": 6,
   "metadata": {},
   "outputs": [],
   "source": [
    "context = \"as an engineering manager how do you manage the performance of your team hey everyone woke come back to another engineering manager mock interview with exponent minnings kevin way and on today show we have hozepha so we're going to do a leadership question today and before we start doing that hozepha do you mind telling the audience a little bit about itself sure uh hi everyone i'm an engineering manager like at facebook i've been working in the soft industry for about twelve years now um have some experience in the fin tax pace worked at paper lanandwethn previously great so like i mention we're doing AA leadership type question today for our mock video and this is what i want to ask as an engineering manager how do you manage the performance of your team 宁 可 um as an engineering manager um one of your your main responsibilities is that you manmanties is that you are um you know managing running running a team and as one of the main um uh cool reresponbiliilito uh uh in that is managing the performance of of your team right so um for managing performance that are is aspects to it is one um manasto to track um and every every person your team is doing and then you measure that that against the level expectations that that they need to be measured at um within within the within the company so every engineer every company has inevariably some kind of uh expectations set for every level um of an engineer um see the junior or a senior or or staff engineer um you need to be able to uh as as a manager um see how the engineer is doing and being able to kind of translate that into what it means from an expectations from an standpoint um the way would want to and of um do that is basically making sure that you are um luluked in into what everybody um in the team is doing so you you have regular one on ones with with the engineers you're talking about what what they are working on what are their goals what what what they 're working do what and in you know the the comcomcomweeks ks and months um i think one of ones is a interesting part of performance management um here tell me about how you might run one or ones differently if you have a very small team first as a very large team sure i think in a um in a small team obviously you can give a lot more um focus time to to everybody so you can probably think of having one on ones every every week let's say you have a five to seven percent team you can you can afford to do do one one one one with every week you 're even able to kind of you know cleclearly know everybody is is is doing um on on a two day basis now you scale it out to ybe be fifteen eighteen eighteen percent team that that doesn't become possible to have a one on one every every week with everybody does just um too much of a time commitment right you probably have a have a meeting every every other week with them um in case ase you you know you rely on your leadds uh in your team whether you have leads per work tremes or whether a couple leads um in your areas to also give you you some some feedback about the other engineers on the team so you're not only talking to the engineers directly in terms of seeing how how they are doing um h you know how they're progressing um but you are also looking at feedback from the other seniors uh senior engineers within the team to kind of give you that additional data point that you might uh not have access to give given the size of your team totally per feedbag is would be roubt really helpful in large teams here for you as a manager yeah i dn't mean to interrupt you was there anything else you wanted to talk about about helping under performers XII so i think um where are under performance is is um one of obviously a challenge that i think every every manager come come come acroross at some point time in a career and as a manager i think it's and dedepenobobououly ly on the company's cucuture ture is how do you go about seeing whether ther can uh help the under performer improve right so i think um over are one of the things you want to make sure is that you are giving this feedback to the candidate um redo guly so so let's say most companies have six six month uh recycle so this shouldn't come as a surprise to the candidate you know at the end of six months that they are under performing if they they have been under performing and the managers seen that that feedback should should be given over they they uh enginein india one on one already so come the former performance time this is not something so they the engering for the first time so it's not a surprise over there so once you can have have that first um conversation that you know things are not um as where they should be you need to start then figuring out why why that is in the case right are they woron something they they don't like are they um not getting the necessary help that they they need what um you know is there something on the personal side that is um impacting ting uum professional um um h output so uum h you want i don't get to get to the rooroot o root cause of the problem then you see how you you can kind of solve that problem right you you break it down maybe into into smaller parts have some milestones uh set um agagreed upon the engineer and the every ager if so then you can can ack ack them on know maybe um weekly weekly basis right you if you sure that let save even if you're in a big team you you have um weekone with everybody every other week you this candidate or this person you have every every week so you're able to kind of give that um attention and handhold them so that they're able to kind of improve improve their performance you see whether they hitting hitting those availdable milestones or or not great let's take a look at the other side the spectrum so thanks where you're talking about how you would handle under performers um so you have under performers then you might also have some top performers some rocks are engineers on the team so how do you keep these top performers motivated yeah i think um top performers motivation is what motivate everybody is is different right so i think as as a manager one of the things you want to know is what motiates a particular engineer whether what kind of recognition they take kind of work right and you want to make sure that your top performers are um giving that recognition you you also need to make sure that they are constantly challenge by the work they are doing right they are constantly learning so making sure that as they are moving in their career as they getting more and mosenior you are giving them bigger and bigger problems to solve so like think of it where you give them a problem which is initially scoped at a task level then they go to a problem which is at a project level then they can look at team level they can look at organization level depending on the size of the company they looking leveproblem right they they sosolve a company level right so you give them bigger and bigger bigger problems you also look at giving them bigms different different areas so that they are not kind of only getting in becoming really strong in one area there they are working across um multiple areas at the at the same time obviously the other other part of most um you know strong performers is making sure that they they are compensated accordingly they are getting promoted um um accordingly um as as well um also i think another thing which people do underestimate is that giving mobility or the option for mobility for the top of farmers within the company um you know uh people work within in an area for three four years it can get monooronous right so you don't want your top of homers actually to leave the company in order to seek a new challenge as a manager if you sense that is happening you maybe you know practively seek out if there is another opportunity as swewithin within the company that um the top of formal can join so that dig and know get that uh new challenge within the company other than you losing losing a top of formal totally um i have a very inteintesting scenerohere for for okay so um let's say hypothetically that you are any meeting with an engineer and a one on one and then you notice maybe like from their screen sharing or something you notice that they might be looking for another job and this is engineer that you really want to keep on your team um like is there something that you would do here would you do anything to try to retain them 嗯 definitely if i would feel that the engineer is a flight risk and i do want to rereretain engineer right right it's like the manager's test right that do you do you want to keep the engineer right at all cost on on and if if the answer is yes i do want to keep the engineer i would definitely um you know find try find find uh what is causing the engineer to um look for a new road right now maybe not within that same one and one i would uh bring ing it up in another conconsation um but i would definitely talk about it and see what what i can do to to retain retain that that engineer whether it's um you know they want looking looking for a new challenuh it's worklife balance whatever that is i would definitely try to find that out and and see how how i can help uh resolve it yeah i think i think it's a good approach is taking a step back thinking about it and then bringing you up in the future once you have more thoughtful um approach on how yeah you definitely need a need a plan of action um before you you start this conversation cool okay let's talk about someone who's doing very well and there they should be up for a promotion so what are the steps that you would take as a great engineering manager to help set someone up for a promotion yeah so i think we are setting somebody up for promotion is something that needs to get planned um you know probably six months to your your you need to start working on it it's not something that that can happen only during the the performance review sector right so you want to make sure that let's have your example going from an level one to to a level two to a engineer in in most cases you will want to be performing already at a at the next levels so that you get promoted that promotions invariably are a lagging lagging indicator um um in terms of the ability or the skill said that that an engineer shows so you you want to work with the engineer tell them what are the expectations uh of the next level what are they what they need to do to um meet those expectations and also as a manager give them that opportunity to um to demonstrate uh colthose expectations right uum give them oopportunities to succeceeat working on on on ger projects leading projects um um you know better documentation with able to lead um system system designs um collaborations with with other teams whatever but the the requirements are give them that opportunity and and make sure they are able to um check have do that on a regular basis so another another thing thing is impimpant ant to note are right that when you want to move to the next level it's not a checklist of things that you need to do only once right you need to constantly be able to demonstrate that that behavior um in some sense you only mean that as muscle memory so as a man manager you you start off early so that you can show show them once and then you need to see whether are is the engineer demonstrating those uh trades on a regular basis without you having to prompt them that this is something that is needed from the next level so you know that once they move to the next level they will still be able to succeed if they come back to where they were before if not going to be good for you or the engineer um in the long run cool things for walking me through that process so we can stop the mock interview here thanks for your time whozfa i'll be curious now just before you wrappthings up if you can tell me until the audience about just how important these leadership questions are in engineering manager interviews yeah i think these leadership questions are are very important um because they give um they are use that signals right to see what kind of a manager you are and the other important thing is that um h in interinterview right now spopoke in hyypothetics um but in an active in an actually interview you won't kind of get into actually use cases or actual scenarios where this has happened to you and have you've kind of arrested and maybe even that thinking about retrospectively if you had to do it all over again but you could differently in in things that might not have worked out right right so you want to definitely uh uh ruthese these answers in in something that has really happened with you uh and i think that will lead a lot more weight to what what say say was is talking in hypothetics during during an actual interview yeah makes a lot of sense and when you're giving those scenario that have happened to you in your past using some framework that start framework situation task action result would be very helpful cool things so zepha for your time and for the audience watching at home good luck with your rocoming engineering manager interview thanks so much for watching don't forget to hit the light and subscribe buttons below to let us know that this video is valuable for you and of course check out hundreds more videos just like this i try exponent dog com thanks for watching and delupped on your upcoming interview\""
   ]
  },
  {
   "cell_type": "code",
   "execution_count": 7,
   "metadata": {},
   "outputs": [],
   "source": [
    "context = \"Hey do you have any plans for the weekend Not yet I was thinking of going hiking What about you That sounds great I might join you Which trail are you thinking of I was considering the one at Green Mountain It's supposed to have amazing views I love that trail Do you want to start early in the morning Yeah I think that’s a good idea How about we meet at 7 AM Perfect I’ll pack some snacks and water for us Awesome I’ll bring my camera to take some pictures Sounds like a plan I’m really looking forward to it Me too It'll be a fun adventure By the way do you think we should check the weather before heading out Good idea I hope it’s clear Yeah rain would definitely ruin the day If it’s nice we could even have a picnic at the top That would be amazing I can make some sandwiches I’ll bring some fruit and drinks then Do you want to invite anyone else Maybe we could ask Sarah She loves hiking as well Great thought I'll text her and see if she’s free Perfect The more the merrier Agreed It’s always more fun with a group And we can take turns with the camera for some group shots Exactly This is shaping up to be a fantastic weekend\""
   ]
  },
  {
   "cell_type": "code",
   "execution_count": 8,
   "metadata": {},
   "outputs": [
    {
     "name": "stdout",
     "output_type": "stream",
     "text": [
      "1. **Speaker 1**: Hey do you have any plans for the weekend\n",
      "2. **Speaker 2**: Not yet I was thinking of going hiking\n",
      "3. **Speaker 1**: What about you\n",
      "4. **Speaker 2**: That sounds great I might join you\n",
      "5. **Speaker 1**: Which trail are you thinking of\n",
      "6. **Speaker 2**: I was considering the one at Green Mountain It's supposed to have amazing views\n",
      "7. **Speaker 1**: I love that trail Do you want to start early in the morning\n",
      "8. **Speaker 2**: Yeah I think that’s a good idea\n",
      "9. **Speaker 1**: How about we meet at 7 AM\n",
      "10. **Speaker 2**: Perfect I’ll pack some snacks and water for us\n",
      "11. **Speaker 1**: Awesome I’ll bring my camera to take some pictures\n",
      "12. **Speaker 2**: Sounds like a plan I’m really looking forward to it\n",
      "13. **Speaker 1**: Me too It'll be a fun adventure\n",
      "14. **Speaker 1**: By the way do you think we should check the weather before heading out\n",
      "15. **Speaker 2**: Good idea I hope it’s clear\n",
      "16. **Speaker 1**: Yeah rain would definitely ruin the day\n",
      "17. **Speaker 2**: If it’s nice we could even have a picnic at the top\n",
      "18. **Speaker 1**: That would be amazing I can make some sandwiches\n",
      "19. **Speaker 2**: I’ll bring some fruit and drinks then\n",
      "20. **Speaker 1**: Do you want to invite anyone else\n",
      "21. **Speaker 2**: Maybe we could ask Sarah She loves hiking as well\n",
      "22. **Speaker 1**: Great thought I'll text her and see if she’s free\n",
      "23. **Speaker 2**: Perfect The more the merrier\n",
      "24. **Speaker 1**: Agreed It’s always more fun with a group\n",
      "25. **Speaker 2**: And we can take turns with the camera for some group shots\n",
      "26. **Speaker 1**: Exactly This is shaping up to be a fantastic weekend\n"
     ]
    }
   ],
   "source": [
    "template = \"\"\"\n",
    "\n",
    "<Context>\n",
    "You will receive a transcript of a conversation in a simple paragraph format without labeled speakers. Your task is to identify the two speakers and extract their dialogues, organizing the conversation in chronological order. Clearly label each part of the dialogue with the speaker's designation (Speaker 1 and Speaker 2).\n",
    "\n",
    "{context}\n",
    "\n",
    "Expected Output:\n",
    "1. **Speaker 1**: [Text from Speaker 1]\n",
    "2. **Speaker 2**: [Text from Speaker 2]\n",
    "3. **Speaker 1**: [Text from Speaker 1]\n",
    "4. **Speaker 2**: [Text from Speaker 2]\n",
    "... and so on. Lastly the result don't contain anything from yourside, it only contain context\n",
    "</Context>\n",
    "\n",
    "\"\"\"\n",
    "\n",
    "chat = ChatZhipuAI(\n",
    "    model=\"GLM-4-0520\",\n",
    "    temperature=0.5,\n",
    ")\n",
    "\n",
    "prompt = ChatPromptTemplate.from_template(\n",
    "    template=template\n",
    ")\n",
    "\n",
    "formatted_prompt = prompt.format(context=context)\n",
    "\n",
    "response = chat.invoke(formatted_prompt)\n",
    "print(response.content)  \n"
   ]
  },
  {
   "cell_type": "code",
   "execution_count": null,
   "metadata": {},
   "outputs": [],
   "source": []
  }
 ],
 "metadata": {
  "kernelspec": {
   "display_name": "Python 3",
   "language": "python",
   "name": "python3"
  },
  "language_info": {
   "codemirror_mode": {
    "name": "ipython",
    "version": 3
   },
   "file_extension": ".py",
   "mimetype": "text/x-python",
   "name": "python",
   "nbconvert_exporter": "python",
   "pygments_lexer": "ipython3",
   "version": "3.12.2"
  }
 },
 "nbformat": 4,
 "nbformat_minor": 2
}
